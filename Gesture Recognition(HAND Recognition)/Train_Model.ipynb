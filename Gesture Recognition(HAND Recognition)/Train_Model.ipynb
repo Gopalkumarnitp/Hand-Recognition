{
 "cells": [
  {
   "cell_type": "code",
   "execution_count": 86,
   "metadata": {},
   "outputs": [],
   "source": [
    "import os\n",
    "from PIL import Image\n",
    "import cv2\n",
    "import numpy as np\n",
    "from keras.utils import np_utils\n",
    "from keras.models import Sequential\n",
    "from keras.layers import Dense,LSTM,TimeDistributed,Conv2D,MaxPooling2D,Flatten,Dropout\n",
    "from sklearn.model_selection import train_test_split"
   ]
  },
  {
   "cell_type": "code",
   "execution_count": 3,
   "metadata": {},
   "outputs": [],
   "source": [
    "path=\"/home/gopal/Desktop/all_in one/text_genration/project_info/gesture/\""
   ]
  },
  {
   "cell_type": "code",
   "execution_count": 4,
   "metadata": {},
   "outputs": [],
   "source": [
    "class_=os.listdir(path)"
   ]
  },
  {
   "cell_type": "code",
   "execution_count": 5,
   "metadata": {},
   "outputs": [],
   "source": [
    "x_=[]\n",
    "y_=[]\n",
    "for classes in class_:\n",
    "    cc=path+classes+\"/\"\n",
    "    for ix in os.listdir(cc):\n",
    "        img=Image.open(cc+ix)\n",
    "        img=np.array(img)/255.0\n",
    "        x_.append(img)\n",
    "        y_.append(classes)\n",
    "        \n",
    "    \n",
    "  \n",
    "     \n",
    "X=np.array(x_)\n",
    "Y=np.array(y_)"
   ]
  },
  {
   "cell_type": "code",
   "execution_count": 39,
   "metadata": {},
   "outputs": [],
   "source": [
    "X=np.reshape(X,(4800,1,50,50,1)) # TimeDistributed in cnn take 5D"
   ]
  },
  {
   "cell_type": "code",
   "execution_count": 40,
   "metadata": {},
   "outputs": [
    {
     "data": {
      "text/plain": [
       "(4800, 1, 50, 50, 1)"
      ]
     },
     "execution_count": 40,
     "metadata": {},
     "output_type": "execute_result"
    }
   ],
   "source": [
    "X.shape"
   ]
  },
  {
   "cell_type": "code",
   "execution_count": 41,
   "metadata": {},
   "outputs": [],
   "source": [
    "from keras.utils import np_utils"
   ]
  },
  {
   "cell_type": "code",
   "execution_count": 42,
   "metadata": {},
   "outputs": [],
   "source": [
    "y=np_utils.to_categorical(Y)"
   ]
  },
  {
   "cell_type": "code",
   "execution_count": 87,
   "metadata": {},
   "outputs": [],
   "source": [
    "X_train, X_test, y_train, y_test = train_test_split(X, y, test_size=0.3)"
   ]
  },
  {
   "cell_type": "code",
   "execution_count": 50,
   "metadata": {},
   "outputs": [
    {
     "name": "stdout",
     "output_type": "stream",
     "text": [
      "_________________________________________________________________\n",
      "Layer (type)                 Output Shape              Param #   \n",
      "=================================================================\n",
      "time_distributed_67 (TimeDis (None, None, 48, 48, 64)  640       \n",
      "_________________________________________________________________\n",
      "time_distributed_68 (TimeDis (None, None, 12, 12, 64)  0         \n",
      "_________________________________________________________________\n",
      "time_distributed_69 (TimeDis (None, None, 9216)        0         \n",
      "_________________________________________________________________\n",
      "lstm_12 (LSTM)               (None, 10)                369080    \n",
      "_________________________________________________________________\n",
      "dense_12 (Dense)             (None, 4)                 44        \n",
      "=================================================================\n",
      "Total params: 369,764\n",
      "Trainable params: 369,764\n",
      "Non-trainable params: 0\n",
      "_________________________________________________________________\n"
     ]
    }
   ],
   "source": [
    "model=Sequential()\n",
    "model.add(TimeDistributed(Conv2D(64,(3,3),activation=\"relu\"),input_shape=(None,50,50,1)))\n",
    "model.add(TimeDistributed(MaxPooling2D(pool_size=(4,4))))\n",
    "model.add(TimeDistributed(Flatten()))\n",
    "model.add(LSTM(10))\n",
    "model.add(Dense(4,activation=\"softmax\"))\n",
    "model.compile(loss=\"binary_crossentropy\",optimizer=\"rmsprop\",metrics=[\"accuracy\"])\n",
    "model.summary()\n"
   ]
  },
  {
   "cell_type": "code",
   "execution_count": 90,
   "metadata": {},
   "outputs": [
    {
     "name": "stdout",
     "output_type": "stream",
     "text": [
      "Train on 3360 samples, validate on 1440 samples\n",
      "Epoch 1/5\n",
      " - 7s - loss: 2.4793e-05 - acc: 1.0000 - val_loss: 1.6948e-05 - val_acc: 1.0000\n",
      "Epoch 2/5\n",
      " - 6s - loss: 1.2069e-05 - acc: 1.0000 - val_loss: 8.3150e-06 - val_acc: 1.0000\n",
      "Epoch 3/5\n",
      " - 7s - loss: 5.9604e-06 - acc: 1.0000 - val_loss: 4.1572e-06 - val_acc: 1.0000\n",
      "Epoch 4/5\n",
      " - 7s - loss: 3.0160e-06 - acc: 1.0000 - val_loss: 2.1538e-06 - val_acc: 1.0000\n",
      "Epoch 5/5\n",
      " - 7s - loss: 1.6012e-06 - acc: 1.0000 - val_loss: 1.1694e-06 - val_acc: 1.0000\n"
     ]
    },
    {
     "data": {
      "text/plain": [
       "<keras.callbacks.History at 0x7fce72fbc710>"
      ]
     },
     "execution_count": 90,
     "metadata": {},
     "output_type": "execute_result"
    }
   ],
   "source": [
    "model.fit(X_train,y_train,epochs=5,batch_size=32,verbose=2,shuffle=True,validation_data=[X_test,y_test])"
   ]
  },
  {
   "cell_type": "code",
   "execution_count": 85,
   "metadata": {},
   "outputs": [],
   "source": [
    "model.save(\"mygesture.h5\")"
   ]
  },
  {
   "cell_type": "code",
   "execution_count": null,
   "metadata": {},
   "outputs": [],
   "source": []
  },
  {
   "cell_type": "code",
   "execution_count": null,
   "metadata": {},
   "outputs": [],
   "source": []
  },
  {
   "cell_type": "code",
   "execution_count": null,
   "metadata": {},
   "outputs": [],
   "source": []
  }
 ],
 "metadata": {
  "kernelspec": {
   "display_name": "Python 2",
   "language": "python",
   "name": "python2"
  },
  "language_info": {
   "codemirror_mode": {
    "name": "ipython",
    "version": 2
   },
   "file_extension": ".py",
   "mimetype": "text/x-python",
   "name": "python",
   "nbconvert_exporter": "python",
   "pygments_lexer": "ipython2",
   "version": "2.7.15rc1"
  }
 },
 "nbformat": 4,
 "nbformat_minor": 2
}
